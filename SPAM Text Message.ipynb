{
  "cells": [
    {
      "cell_type": "markdown",
      "metadata": {
        "id": "view-in-github",
        "colab_type": "text"
      },
      "source": [
        "<a href=\"https://colab.research.google.com/github/khviyer/NLP-Assessment/blob/main/SPAM%20Text%20Message.ipynb\" target=\"_parent\"><img src=\"https://colab.research.google.com/assets/colab-badge.svg\" alt=\"Open In Colab\"/></a>"
      ]
    },
    {
      "cell_type": "markdown",
      "metadata": {
        "id": "ieh2DOYQQ6X2"
      },
      "source": [
        "# Classification of SPAM Text Messages\n",
        "\n",
        "\n",
        "\n",
        "### Github: https://github.com/khviyer/NLP-Assessment/edit/main/Spam.ipynb"
      ]
    },
    {
      "cell_type": "markdown",
      "metadata": {
        "id": "BrbF_T6QQ6X7"
      },
      "source": [
        "## The SMS Spam Collection is a publicly accessible dataset used for investigating mobile spam. It comprises of 5,574 English SMS messages, classified as either 'ham' (legitimate) or 'spam'.\n",
        "\n",
        "### Dataset Link: https://archive.ics.uci.edu/ml/datasets/sms+spam+collection\n",
        "### Dataset References: http://www.dt.fee.unicamp.br/~tiago/smsspamcollection/"
      ]
    },
    {
      "cell_type": "markdown",
      "metadata": {
        "id": "SW2bLVdSQ6X9"
      },
      "source": [
        "## 1. LOADING THE TEXTUAL DATA"
      ]
    },
    {
      "cell_type": "markdown",
      "metadata": {
        "id": "idZU2_GxQ6X-"
      },
      "source": [
        "### The Python 'open()' function is utilized for loading the text file, which provides flexibility for handling complex dataframes. The data seems to be tab-delimited."
      ]
    },
    {
      "cell_type": "code",
      "execution_count": null,
      "metadata": {
        "id": "PcZ0NrPpQ6X_"
      },
      "outputs": [],
      "source": [
        "rawData = open(\"SMSSpamCollection\").read()\n",
        "rawData[0:300]"
      ]
    },
    {
      "cell_type": "markdown",
      "metadata": {
        "id": "QdmZtjx8Q6YE"
      },
      "source": [
        "### We can see that the values are seperated by a '\\t' which means it is a tab-delimited text file. For tsv files, we can call the Pandas read_csv function and specify '\\t' as the seperator."
      ]
    },
    {
      "cell_type": "code",
      "execution_count": null,
      "metadata": {
        "id": "DhAYj8g5Q6YE"
      },
      "outputs": [],
      "source": [
        "parsedData = rawData.replace('\\t', '\\n').split('\\n') # Replace tab characters with new-line characters\n",
        "parsedData[0:4]"
      ]
    },
    {
      "cell_type": "code",
      "execution_count": null,
      "metadata": {
        "id": "R63vacbgQ6YF"
      },
      "outputs": [],
      "source": [
        "labels = parsedData[0::2] # Every second element starting from the 0th index\n",
        "texts = parsedData[1::2] # Every second element starting from the 1st index\n",
        "\n",
        "print(labels[0:4])\n",
        "print(texts[0:4])"
      ]
    },
    {
      "cell_type": "code",
      "execution_count": null,
      "metadata": {
        "id": "O-HQ79ioQ6YG"
      },
      "outputs": [],
      "source": [
        "import pandas as pd\n",
        "pd.set_option('display.max_colwidth', 100)"
      ]
    },
    {
      "cell_type": "code",
      "execution_count": null,
      "metadata": {
        "id": "CuoWcjuiQ6YH",
        "outputId": "beb5ccb3-2c82-41ac-a2f4-7be67606a4c3"
      },
      "outputs": [
        {
          "data": {
            "text/html": [
              "<div>\n",
              "<style scoped>\n",
              "    .dataframe tbody tr th:only-of-type {\n",
              "        vertical-align: middle;\n",
              "    }\n",
              "\n",
              "    .dataframe tbody tr th {\n",
              "        vertical-align: top;\n",
              "    }\n",
              "\n",
              "    .dataframe thead th {\n",
              "        text-align: right;\n",
              "    }\n",
              "</style>\n",
              "<table border=\"1\" class=\"dataframe\">\n",
              "  <thead>\n",
              "    <tr style=\"text-align: right;\">\n",
              "      <th></th>\n",
              "      <th>label</th>\n",
              "      <th>body</th>\n",
              "    </tr>\n",
              "  </thead>\n",
              "  <tbody>\n",
              "    <tr>\n",
              "      <th>0</th>\n",
              "      <td>ham</td>\n",
              "      <td>Go until jurong point, crazy.. Available only in bugis n great world la e buffet... Cine there g...</td>\n",
              "    </tr>\n",
              "    <tr>\n",
              "      <th>1</th>\n",
              "      <td>ham</td>\n",
              "      <td>Ok lar... Joking wif u oni...</td>\n",
              "    </tr>\n",
              "    <tr>\n",
              "      <th>2</th>\n",
              "      <td>spam</td>\n",
              "      <td>Free entry in 2 a wkly comp to win FA Cup final tkts 21st May 2005. Text FA to 87121 to receive ...</td>\n",
              "    </tr>\n",
              "    <tr>\n",
              "      <th>3</th>\n",
              "      <td>ham</td>\n",
              "      <td>U dun say so early hor... U c already then say...</td>\n",
              "    </tr>\n",
              "    <tr>\n",
              "      <th>4</th>\n",
              "      <td>ham</td>\n",
              "      <td>Nah I don't think he goes to usf, he lives around here though</td>\n",
              "    </tr>\n",
              "  </tbody>\n",
              "</table>\n",
              "</div>"
            ],
            "text/plain": [
              "  label  \\\n",
              "0   ham   \n",
              "1   ham   \n",
              "2  spam   \n",
              "3   ham   \n",
              "4   ham   \n",
              "\n",
              "                                                                                                  body  \n",
              "0  Go until jurong point, crazy.. Available only in bugis n great world la e buffet... Cine there g...  \n",
              "1                                                                        Ok lar... Joking wif u oni...  \n",
              "2  Free entry in 2 a wkly comp to win FA Cup final tkts 21st May 2005. Text FA to 87121 to receive ...  \n",
              "3                                                    U dun say so early hor... U c already then say...  \n",
              "4                                        Nah I don't think he goes to usf, he lives around here though  "
            ]
          },
          "execution_count": 5,
          "metadata": {},
          "output_type": "execute_result"
        }
      ],
      "source": [
        "dataFrame = pd.DataFrame({\n",
        "    'label': labels[:-1], # Removing the last index from the labels list because it contains a blank element and arrays need to be equal in length\n",
        "    'body': texts\n",
        "})\n",
        "\n",
        "dataFrame.head()"
      ]
    },
    {
      "cell_type": "markdown",
      "metadata": {
        "id": "4jrVYIuoQ6YJ"
      },
      "source": [
        "### To replicate the same process as above, we use the Pandas' approach. Note that the above used procedure is more flexible for even complex text files."
      ]
    },
    {
      "cell_type": "code",
      "execution_count": null,
      "metadata": {
        "id": "IpQtjdtgQ6YJ",
        "outputId": "b953f703-9ddd-4089-c1af-ffa49519c1e3"
      },
      "outputs": [
        {
          "data": {
            "text/html": [
              "<div>\n",
              "<style scoped>\n",
              "    .dataframe tbody tr th:only-of-type {\n",
              "        vertical-align: middle;\n",
              "    }\n",
              "\n",
              "    .dataframe tbody tr th {\n",
              "        vertical-align: top;\n",
              "    }\n",
              "\n",
              "    .dataframe thead th {\n",
              "        text-align: right;\n",
              "    }\n",
              "</style>\n",
              "<table border=\"1\" class=\"dataframe\">\n",
              "  <thead>\n",
              "    <tr style=\"text-align: right;\">\n",
              "      <th></th>\n",
              "      <th>label</th>\n",
              "      <th>body</th>\n",
              "    </tr>\n",
              "  </thead>\n",
              "  <tbody>\n",
              "    <tr>\n",
              "      <th>0</th>\n",
              "      <td>ham</td>\n",
              "      <td>Go until jurong point, crazy.. Available only in bugis n great world la e buffet... Cine there g...</td>\n",
              "    </tr>\n",
              "    <tr>\n",
              "      <th>1</th>\n",
              "      <td>ham</td>\n",
              "      <td>Ok lar... Joking wif u oni...</td>\n",
              "    </tr>\n",
              "    <tr>\n",
              "      <th>2</th>\n",
              "      <td>spam</td>\n",
              "      <td>Free entry in 2 a wkly comp to win FA Cup final tkts 21st May 2005. Text FA to 87121 to receive ...</td>\n",
              "    </tr>\n",
              "    <tr>\n",
              "      <th>3</th>\n",
              "      <td>ham</td>\n",
              "      <td>U dun say so early hor... U c already then say...</td>\n",
              "    </tr>\n",
              "    <tr>\n",
              "      <th>4</th>\n",
              "      <td>ham</td>\n",
              "      <td>Nah I don't think he goes to usf, he lives around here though</td>\n",
              "    </tr>\n",
              "  </tbody>\n",
              "</table>\n",
              "</div>"
            ],
            "text/plain": [
              "  label  \\\n",
              "0   ham   \n",
              "1   ham   \n",
              "2  spam   \n",
              "3   ham   \n",
              "4   ham   \n",
              "\n",
              "                                                                                                  body  \n",
              "0  Go until jurong point, crazy.. Available only in bugis n great world la e buffet... Cine there g...  \n",
              "1                                                                        Ok lar... Joking wif u oni...  \n",
              "2  Free entry in 2 a wkly comp to win FA Cup final tkts 21st May 2005. Text FA to 87121 to receive ...  \n",
              "3                                                    U dun say so early hor... U c already then say...  \n",
              "4                                        Nah I don't think he goes to usf, he lives around here though  "
            ]
          },
          "execution_count": 6,
          "metadata": {},
          "output_type": "execute_result"
        }
      ],
      "source": [
        "df = pd.read_csv(\"SMSSpamCollection\", sep = \"\\t\", header = None) # Importing tab-delimited file\n",
        "df.columns = [\"label\", \"body\"] # Naming the columns\n",
        "df.head()"
      ]
    },
    {
      "cell_type": "markdown",
      "metadata": {
        "id": "ysBrFAEPQ6YK"
      },
      "source": [
        "## 2. Text Data Analysis\n",
        "\n",
        "The dataset comprises 5572 rows and 2 columns. The breakdown of 'ham' and 'spam' messages is checked, and it is confirmed that there are no null values present."
      ]
    },
    {
      "cell_type": "code",
      "execution_count": null,
      "metadata": {
        "id": "V-MCrR3TQ6YK",
        "outputId": "017e7da1-c598-4dd0-cd63-7de8b0910794"
      },
      "outputs": [
        {
          "data": {
            "text/plain": [
              "(5572, 2)"
            ]
          },
          "execution_count": 7,
          "metadata": {},
          "output_type": "execute_result"
        }
      ],
      "source": [
        "# Number of rows and columns in the dataset\n",
        "df.shape"
      ]
    },
    {
      "cell_type": "code",
      "execution_count": null,
      "metadata": {
        "id": "MmI0rj3LQ6YL",
        "outputId": "9cdd20b9-8337-4539-fb06-2df807056675"
      },
      "outputs": [
        {
          "name": "stdout",
          "output_type": "stream",
          "text": [
            "Ham: 4825\n",
            "Spam: 747\n"
          ]
        }
      ],
      "source": [
        "# Number of ham entries\n",
        "print(\"Ham: {}\".format(len(df[df['label'] == 'ham'])))\n",
        "\n",
        "# Number of spam entries\n",
        "print(\"Spam: {}\".format(len(df[df['label'] == 'spam'])))"
      ]
    },
    {
      "cell_type": "code",
      "execution_count": null,
      "metadata": {
        "id": "f1s3WPs5Q6YL",
        "outputId": "6a1e969c-b211-4c18-8555-f85494e50cb8"
      },
      "outputs": [
        {
          "data": {
            "text/plain": [
              "label    0\n",
              "body     0\n",
              "dtype: int64"
            ]
          },
          "execution_count": 9,
          "metadata": {},
          "output_type": "execute_result"
        }
      ],
      "source": [
        "# Checking for null values\n",
        "df.isnull().sum()"
      ]
    },
    {
      "cell_type": "markdown",
      "metadata": {
        "id": "AhKg9gD9Q6YM"
      },
      "source": [
        "### The data doesn't contain any null values, so no further cleaning in that respect is required."
      ]
    },
    {
      "cell_type": "markdown",
      "metadata": {
        "id": "T2KOg8aEQ6YM"
      },
      "source": [
        "## 3. TEXT PROCESSING: TOKENIZATION AND REMOVAL OF STOPWORDS\n",
        "\n",
        "The text is cleaned, tokenized, and stop words are removed using Python's string and nltk library. The punctuation percentage and message length are calculated as these might be useful features."
      ]
    },
    {
      "cell_type": "code",
      "execution_count": null,
      "metadata": {
        "id": "MHwrA5gCQ6YN"
      },
      "outputs": [],
      "source": [
        "import string\n",
        "import re\n",
        "import nltk\n",
        "string.punctuation[0:10] # Printing the first 10 punctuations in the string library\n",
        "stopword = nltk.corpus.stopwords.words('english') # Defining Stopwords\n",
        "ps = nltk.PorterStemmer() # Defining the Porter Stemmer\n",
        "wn = nltk.WordNetLemmatizer() # Defining the Word Net Lemmatizer"
      ]
    },
    {
      "cell_type": "code",
      "execution_count": null,
      "metadata": {
        "id": "Ub1FGH12Q6YN"
      },
      "outputs": [],
      "source": [
        "def clean_text(text):\n",
        "    text_nopunct = \"\".join([char.lower() for char in text if char not in string.punctuation])\n",
        "    token = re.split(\"\\W+\", text_nopunct)\n",
        "    text_nostopword = [word for word in token if word not in stopword]\n",
        "    #clean_text = [ps.stem(word) for word in text_nostopword]\n",
        "    # We use lemmatizing because of it's higher sophistication and we don't have a performance bottleneck\n",
        "    clean_text = [wn.lemmatize(word) for word in text_nostopword]\n",
        "    return clean_text\n",
        "\n",
        "# This Cleaning Function is called by the Vectorizer"
      ]
    },
    {
      "cell_type": "markdown",
      "metadata": {
        "id": "S7wyaEsbQ6YN"
      },
      "source": [
        "### Feature Engineering - Hypothesis is that spam messages are longer and contains less punctuations than normal messages."
      ]
    },
    {
      "cell_type": "code",
      "execution_count": null,
      "metadata": {
        "id": "MyGbJb7wQ6YO",
        "outputId": "74fb050c-fd2e-43b9-ae5b-661e49db8d75"
      },
      "outputs": [
        {
          "name": "stdout",
          "output_type": "stream",
          "text": [
            "Spam: Punctuation Percentage Average = 4.887148594377507 and Average Length = 115.71753681392235\n",
            "Ham: Punctuation Percentage Average = 7.4459067357512625 and Average Length = 58.049326424870465\n"
          ]
        },
        {
          "data": {
            "text/html": [
              "<div>\n",
              "<style scoped>\n",
              "    .dataframe tbody tr th:only-of-type {\n",
              "        vertical-align: middle;\n",
              "    }\n",
              "\n",
              "    .dataframe tbody tr th {\n",
              "        vertical-align: top;\n",
              "    }\n",
              "\n",
              "    .dataframe thead th {\n",
              "        text-align: right;\n",
              "    }\n",
              "</style>\n",
              "<table border=\"1\" class=\"dataframe\">\n",
              "  <thead>\n",
              "    <tr style=\"text-align: right;\">\n",
              "      <th></th>\n",
              "      <th>label</th>\n",
              "      <th>body</th>\n",
              "      <th>punc%</th>\n",
              "      <th>body_len</th>\n",
              "    </tr>\n",
              "  </thead>\n",
              "  <tbody>\n",
              "    <tr>\n",
              "      <th>0</th>\n",
              "      <td>ham</td>\n",
              "      <td>Go until jurong point, crazy.. Available only in bugis n great world la e buffet... Cine there g...</td>\n",
              "      <td>9.8</td>\n",
              "      <td>92</td>\n",
              "    </tr>\n",
              "    <tr>\n",
              "      <th>1</th>\n",
              "      <td>ham</td>\n",
              "      <td>Ok lar... Joking wif u oni...</td>\n",
              "      <td>25.0</td>\n",
              "      <td>24</td>\n",
              "    </tr>\n",
              "    <tr>\n",
              "      <th>2</th>\n",
              "      <td>spam</td>\n",
              "      <td>Free entry in 2 a wkly comp to win FA Cup final tkts 21st May 2005. Text FA to 87121 to receive ...</td>\n",
              "      <td>4.7</td>\n",
              "      <td>128</td>\n",
              "    </tr>\n",
              "    <tr>\n",
              "      <th>3</th>\n",
              "      <td>ham</td>\n",
              "      <td>U dun say so early hor... U c already then say...</td>\n",
              "      <td>15.4</td>\n",
              "      <td>39</td>\n",
              "    </tr>\n",
              "    <tr>\n",
              "      <th>4</th>\n",
              "      <td>ham</td>\n",
              "      <td>Nah I don't think he goes to usf, he lives around here though</td>\n",
              "      <td>4.1</td>\n",
              "      <td>49</td>\n",
              "    </tr>\n",
              "  </tbody>\n",
              "</table>\n",
              "</div>"
            ],
            "text/plain": [
              "  label  \\\n",
              "0   ham   \n",
              "1   ham   \n",
              "2  spam   \n",
              "3   ham   \n",
              "4   ham   \n",
              "\n",
              "                                                                                                  body  \\\n",
              "0  Go until jurong point, crazy.. Available only in bugis n great world la e buffet... Cine there g...   \n",
              "1                                                                        Ok lar... Joking wif u oni...   \n",
              "2  Free entry in 2 a wkly comp to win FA Cup final tkts 21st May 2005. Text FA to 87121 to receive ...   \n",
              "3                                                    U dun say so early hor... U c already then say...   \n",
              "4                                        Nah I don't think he goes to usf, he lives around here though   \n",
              "\n",
              "   punc%  body_len  \n",
              "0    9.8        92  \n",
              "1   25.0        24  \n",
              "2    4.7       128  \n",
              "3   15.4        39  \n",
              "4    4.1        49  "
            ]
          },
          "execution_count": 12,
          "metadata": {},
          "output_type": "execute_result"
        }
      ],
      "source": [
        "def count_punc(text):\n",
        "    count = sum([1 for char in text if char in string.punctuation])\n",
        "    return round(count/(len(text) - text.count(\" \")), 3)*100\n",
        "\n",
        "df['punc%'] = df['body'].apply(lambda x: count_punc(x))\n",
        "df['body_len'] = df['body'].apply(lambda x: len(x) - x.count(\" \"))\n",
        "\n",
        "print(\"Spam: Punctuation Percentage Average = {} and Average Length = {}\".format(df[df['label'] == \"spam\"]['punc%'].mean(),\n",
        "                                                                                 df[df['label'] == \"spam\"]['body_len'].mean()))\n",
        "print(\"Ham: Punctuation Percentage Average = {} and Average Length = {}\".format(df[df['label'] == \"ham\"]['punc%'].mean(),\n",
        "                                                                                df[df['label'] == \"ham\"]['body_len'].mean()))\n",
        "\n",
        "df.head()"
      ]
    },
    {
      "cell_type": "markdown",
      "metadata": {
        "id": "ky2UzU1OQ6YO"
      },
      "source": [
        "### It can be seen that our hypothesis is correct, and we can use these two generated features."
      ]
    },
    {
      "cell_type": "markdown",
      "metadata": {
        "id": "DEWUSwsUQ6YP"
      },
      "source": [
        "## 4. TEXT VECTORIZATION\n"
      ]
    },
    {
      "cell_type": "markdown",
      "metadata": {
        "id": "HfgXM3PaQ6YP"
      },
      "source": [
        "### Before implementing the vectorizers, we split that data into training and test sets"
      ]
    },
    {
      "cell_type": "code",
      "execution_count": null,
      "metadata": {
        "id": "x1hS6DpGQ6YP"
      },
      "outputs": [],
      "source": [
        "from sklearn.model_selection import train_test_split\n",
        "\n",
        "X_train, X_test, y_train, y_test = train_test_split(df[['body', 'body_len', 'punc%']], df['label'], test_size=0.2)"
      ]
    },
    {
      "cell_type": "markdown",
      "metadata": {
        "id": "IyE1Sdy8Q6YQ"
      },
      "source": [
        "### Implementing the TFIDF Vectorizer"
      ]
    },
    {
      "cell_type": "code",
      "execution_count": null,
      "metadata": {
        "id": "hdh5RPJmQ6YQ",
        "outputId": "22c4265d-0667-4c11-8ff0-e79ce20e7a14"
      },
      "outputs": [
        {
          "data": {
            "text/html": [
              "<div>\n",
              "<style scoped>\n",
              "    .dataframe tbody tr th:only-of-type {\n",
              "        vertical-align: middle;\n",
              "    }\n",
              "\n",
              "    .dataframe tbody tr th {\n",
              "        vertical-align: top;\n",
              "    }\n",
              "\n",
              "    .dataframe thead th {\n",
              "        text-align: right;\n",
              "    }\n",
              "</style>\n",
              "<table border=\"1\" class=\"dataframe\">\n",
              "  <thead>\n",
              "    <tr style=\"text-align: right;\">\n",
              "      <th></th>\n",
              "      <th>body_len</th>\n",
              "      <th>punc%</th>\n",
              "      <th>0</th>\n",
              "      <th>1</th>\n",
              "      <th>2</th>\n",
              "      <th>3</th>\n",
              "      <th>4</th>\n",
              "      <th>5</th>\n",
              "      <th>6</th>\n",
              "      <th>7</th>\n",
              "      <th>...</th>\n",
              "      <th>7852</th>\n",
              "      <th>7853</th>\n",
              "      <th>7854</th>\n",
              "      <th>7855</th>\n",
              "      <th>7856</th>\n",
              "      <th>7857</th>\n",
              "      <th>7858</th>\n",
              "      <th>7859</th>\n",
              "      <th>7860</th>\n",
              "      <th>7861</th>\n",
              "    </tr>\n",
              "  </thead>\n",
              "  <tbody>\n",
              "    <tr>\n",
              "      <th>0</th>\n",
              "      <td>57</td>\n",
              "      <td>5.3</td>\n",
              "      <td>0.195276</td>\n",
              "      <td>0.0</td>\n",
              "      <td>0.0</td>\n",
              "      <td>0.0</td>\n",
              "      <td>0.0</td>\n",
              "      <td>0.0</td>\n",
              "      <td>0.0</td>\n",
              "      <td>0.0</td>\n",
              "      <td>...</td>\n",
              "      <td>0.0</td>\n",
              "      <td>0.0</td>\n",
              "      <td>0.0</td>\n",
              "      <td>0.0</td>\n",
              "      <td>0.0</td>\n",
              "      <td>0.0</td>\n",
              "      <td>0.0</td>\n",
              "      <td>0.0</td>\n",
              "      <td>0.0</td>\n",
              "      <td>0.0</td>\n",
              "    </tr>\n",
              "    <tr>\n",
              "      <th>1</th>\n",
              "      <td>29</td>\n",
              "      <td>3.4</td>\n",
              "      <td>0.000000</td>\n",
              "      <td>0.0</td>\n",
              "      <td>0.0</td>\n",
              "      <td>0.0</td>\n",
              "      <td>0.0</td>\n",
              "      <td>0.0</td>\n",
              "      <td>0.0</td>\n",
              "      <td>0.0</td>\n",
              "      <td>...</td>\n",
              "      <td>0.0</td>\n",
              "      <td>0.0</td>\n",
              "      <td>0.0</td>\n",
              "      <td>0.0</td>\n",
              "      <td>0.0</td>\n",
              "      <td>0.0</td>\n",
              "      <td>0.0</td>\n",
              "      <td>0.0</td>\n",
              "      <td>0.0</td>\n",
              "      <td>0.0</td>\n",
              "    </tr>\n",
              "    <tr>\n",
              "      <th>2</th>\n",
              "      <td>55</td>\n",
              "      <td>7.3</td>\n",
              "      <td>0.000000</td>\n",
              "      <td>0.0</td>\n",
              "      <td>0.0</td>\n",
              "      <td>0.0</td>\n",
              "      <td>0.0</td>\n",
              "      <td>0.0</td>\n",
              "      <td>0.0</td>\n",
              "      <td>0.0</td>\n",
              "      <td>...</td>\n",
              "      <td>0.0</td>\n",
              "      <td>0.0</td>\n",
              "      <td>0.0</td>\n",
              "      <td>0.0</td>\n",
              "      <td>0.0</td>\n",
              "      <td>0.0</td>\n",
              "      <td>0.0</td>\n",
              "      <td>0.0</td>\n",
              "      <td>0.0</td>\n",
              "      <td>0.0</td>\n",
              "    </tr>\n",
              "    <tr>\n",
              "      <th>3</th>\n",
              "      <td>31</td>\n",
              "      <td>6.5</td>\n",
              "      <td>0.000000</td>\n",
              "      <td>0.0</td>\n",
              "      <td>0.0</td>\n",
              "      <td>0.0</td>\n",
              "      <td>0.0</td>\n",
              "      <td>0.0</td>\n",
              "      <td>0.0</td>\n",
              "      <td>0.0</td>\n",
              "      <td>...</td>\n",
              "      <td>0.0</td>\n",
              "      <td>0.0</td>\n",
              "      <td>0.0</td>\n",
              "      <td>0.0</td>\n",
              "      <td>0.0</td>\n",
              "      <td>0.0</td>\n",
              "      <td>0.0</td>\n",
              "      <td>0.0</td>\n",
              "      <td>0.0</td>\n",
              "      <td>0.0</td>\n",
              "    </tr>\n",
              "    <tr>\n",
              "      <th>4</th>\n",
              "      <td>26</td>\n",
              "      <td>3.8</td>\n",
              "      <td>0.000000</td>\n",
              "      <td>0.0</td>\n",
              "      <td>0.0</td>\n",
              "      <td>0.0</td>\n",
              "      <td>0.0</td>\n",
              "      <td>0.0</td>\n",
              "      <td>0.0</td>\n",
              "      <td>0.0</td>\n",
              "      <td>...</td>\n",
              "      <td>0.0</td>\n",
              "      <td>0.0</td>\n",
              "      <td>0.0</td>\n",
              "      <td>0.0</td>\n",
              "      <td>0.0</td>\n",
              "      <td>0.0</td>\n",
              "      <td>0.0</td>\n",
              "      <td>0.0</td>\n",
              "      <td>0.0</td>\n",
              "      <td>0.0</td>\n",
              "    </tr>\n",
              "  </tbody>\n",
              "</table>\n",
              "<p>5 rows × 7864 columns</p>\n",
              "</div>"
            ],
            "text/plain": [
              "   body_len  punc%         0    1    2    3    4    5    6    7  ...  7852  \\\n",
              "0        57    5.3  0.195276  0.0  0.0  0.0  0.0  0.0  0.0  0.0  ...   0.0   \n",
              "1        29    3.4  0.000000  0.0  0.0  0.0  0.0  0.0  0.0  0.0  ...   0.0   \n",
              "2        55    7.3  0.000000  0.0  0.0  0.0  0.0  0.0  0.0  0.0  ...   0.0   \n",
              "3        31    6.5  0.000000  0.0  0.0  0.0  0.0  0.0  0.0  0.0  ...   0.0   \n",
              "4        26    3.8  0.000000  0.0  0.0  0.0  0.0  0.0  0.0  0.0  ...   0.0   \n",
              "\n",
              "   7853  7854  7855  7856  7857  7858  7859  7860  7861  \n",
              "0   0.0   0.0   0.0   0.0   0.0   0.0   0.0   0.0   0.0  \n",
              "1   0.0   0.0   0.0   0.0   0.0   0.0   0.0   0.0   0.0  \n",
              "2   0.0   0.0   0.0   0.0   0.0   0.0   0.0   0.0   0.0  \n",
              "3   0.0   0.0   0.0   0.0   0.0   0.0   0.0   0.0   0.0  \n",
              "4   0.0   0.0   0.0   0.0   0.0   0.0   0.0   0.0   0.0  \n",
              "\n",
              "[5 rows x 7864 columns]"
            ]
          },
          "execution_count": 14,
          "metadata": {},
          "output_type": "execute_result"
        }
      ],
      "source": [
        "from sklearn.feature_extraction.text import TfidfVectorizer\n",
        "\n",
        "vect = TfidfVectorizer(analyzer = clean_text)\n",
        "tfidf_total = vect.fit(df['body']) # Used for fitting on the whole model later\n",
        "tfidf_vect_fit = vect.fit(X_train['body'])\n",
        "\n",
        "tfidf = tfidf_total.transform(df['body']) # Used for fitting on the whole model later\n",
        "tfidf_train = tfidf_vect_fit.transform(X_train['body'])\n",
        "tfidf_test = tfidf_vect_fit.transform(X_test['body'])\n",
        "\n",
        "total_vect = pd.concat([df[['body_len', 'punc%']].reset_index(drop=True),\n",
        "           pd.DataFrame(tfidf.toarray())], axis=1) # Used for fitting on the whole model later\n",
        "X_train_vect = pd.concat([X_train[['body_len', 'punc%']].reset_index(drop=True),\n",
        "           pd.DataFrame(tfidf_train.toarray())], axis=1)\n",
        "X_test_vect = pd.concat([X_test[['body_len', 'punc%']].reset_index(drop=True),\n",
        "           pd.DataFrame(tfidf_test.toarray())], axis=1)\n",
        "\n",
        "X_train_vect.head()"
      ]
    },
    {
      "cell_type": "markdown",
      "metadata": {
        "id": "OdzZqNDIQ6YQ"
      },
      "source": [
        "## 5. Classification"
      ]
    },
    {
      "cell_type": "markdown",
      "metadata": {
        "id": "2xM2vj4MQ6YT"
      },
      "source": [
        "### We implement Machine Learning Classification models on the dataset to determine if a given message is spam or ham."
      ]
    },
    {
      "cell_type": "code",
      "execution_count": null,
      "metadata": {
        "id": "pRa_-uLjQ6YT",
        "outputId": "3d717e55-525c-42df-c815-db5baae7ea71"
      },
      "outputs": [
        {
          "name": "stdout",
          "output_type": "stream",
          "text": [
            "Precision: 0.992 / Recall: 0.833 / Accuracy: 0.977\n"
          ]
        }
      ],
      "source": [
        "from sklearn.ensemble import RandomForestClassifier, GradientBoostingClassifier\n",
        "from sklearn.naive_bayes import GaussianNB\n",
        "from sklearn.metrics import precision_recall_fscore_support as score\n",
        "\n",
        "rf = RandomForestClassifier(n_estimators=150, max_depth=None, n_jobs=-1)\n",
        "\n",
        "rf_model = rf.fit(X_train_vect, y_train)\n",
        "y_pred = rf_model.predict(X_test_vect)\n",
        "\n",
        "precision, recall, fscore, train_support = score(y_test, y_pred, pos_label='spam', average='binary')\n",
        "print('Precision: {} / Recall: {} / Accuracy: {}'.format(round(precision, 3), round(recall, 3), round((y_pred==y_test).sum()/len(y_pred), 3)))"
      ]
    },
    {
      "cell_type": "code",
      "execution_count": null,
      "metadata": {
        "id": "_Z8WjnGZQ6YU",
        "outputId": "089c4eeb-5640-42c3-bc01-c8073d652087"
      },
      "outputs": [
        {
          "name": "stdout",
          "output_type": "stream",
          "text": [
            "212.88605499267578\n",
            "Precision: 0.923 / Recall: 0.88 / Accuracy: 0.974\n"
          ]
        }
      ],
      "source": [
        "import time # GradientBoostingClassifier seems to take a lot of time\n",
        "\n",
        "gb = GradientBoostingClassifier(n_estimators=150, max_depth=11)\n",
        "\n",
        "start = time.time()\n",
        "gb_model = gb.fit(X_train_vect, y_train)\n",
        "end = time.time()\n",
        "fit_time = (end - start)\n",
        "print(fit_time)\n",
        "\n",
        "y_pred = gb_model.predict(X_test_vect)\n",
        "\n",
        "precision, recall, fscore, train_support = score(y_test, y_pred, pos_label='spam', average='binary')\n",
        "print('Precision: {} / Recall: {} / Accuracy: {}'.format(round(precision, 3), round(recall, 3), round((y_pred==y_test).sum()/len(y_pred), 3)))"
      ]
    },
    {
      "cell_type": "code",
      "execution_count": null,
      "metadata": {
        "id": "5N3ReS9DQ6YU",
        "outputId": "fa679af5-7b51-4692-9041-7f4eee32bcef"
      },
      "outputs": [
        {
          "name": "stdout",
          "output_type": "stream",
          "text": [
            "Precision: 0.589 / Recall: 0.907 / Accuracy: 0.902\n"
          ]
        }
      ],
      "source": [
        "nbClassifier = GaussianNB()\n",
        "\n",
        "nbClassifier.fit(X_train_vect, y_train)\n",
        "y_pred = nbClassifier.predict(X_test_vect)\n",
        "\n",
        "precision, recall, fscore, train_support = score(y_test, y_pred, pos_label='spam', average='binary')\n",
        "print('Precision: {} / Recall: {} / Accuracy: {}'.format(round(precision, 3), round(recall, 3), round((y_pred==y_test).sum()/len(y_pred), 3)))"
      ]
    },
    {
      "cell_type": "markdown",
      "metadata": {
        "id": "e9bRk3rhQ6YV"
      },
      "source": [
        "## Random Forests classifier seems to be the best fit for our use case with an accuracy of 97.7% and a Precision very close to unity. Now we train the whole model on the classifier."
      ]
    },
    {
      "cell_type": "code",
      "execution_count": null,
      "metadata": {
        "id": "UaeQv4EBQ6YV"
      },
      "outputs": [],
      "source": [
        "rf_model = rf.fit(total_vect, df['label'])"
      ]
    },
    {
      "cell_type": "markdown",
      "source": [
        "![image.png](data:image/png;base64,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)"
      ],
      "metadata": {
        "id": "v2bXI_-rVMOt"
      }
    }
  ],
  "metadata": {
    "kernelspec": {
      "display_name": "Python 3",
      "language": "python",
      "name": "python3"
    },
    "language_info": {
      "codemirror_mode": {
        "name": "ipython",
        "version": 3
      },
      "file_extension": ".py",
      "mimetype": "text/x-python",
      "name": "python",
      "nbconvert_exporter": "python",
      "pygments_lexer": "ipython3",
      "version": "3.7.3"
    },
    "colab": {
      "provenance": [],
      "include_colab_link": true
    }
  },
  "nbformat": 4,
  "nbformat_minor": 0
}